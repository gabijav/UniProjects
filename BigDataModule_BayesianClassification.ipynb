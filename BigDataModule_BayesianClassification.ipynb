{
 "cells": [
  {
   "cell_type": "markdown",
   "id": "33a4871a",
   "metadata": {},
   "source": [
    "<center><h1> ST420: Statistical Learning and Big Data </h1></center>\n",
    "    \n",
    "<center><h2> Assignment 2:Bayesian classification </h2></center>\n",
    "<center><h2> Gabija Vaisvilaite </h2></center>"
   ]
  },
  {
   "cell_type": "markdown",
   "id": "7b2321b8",
   "metadata": {},
   "source": [
    "Importing libraries."
   ]
  },
  {
   "cell_type": "code",
   "execution_count": 1,
   "id": "2583e269",
   "metadata": {},
   "outputs": [],
   "source": [
    "import numpy as np\n",
    "import pandas as pd\n",
    "from scipy.stats import multivariate_normal\n",
    "import matplotlib.pyplot as plt"
   ]
  },
  {
   "cell_type": "markdown",
   "id": "c834fa93",
   "metadata": {},
   "source": [
    "The following code was performed in r."
   ]
  },
  {
   "cell_type": "raw",
   "id": "597ce791",
   "metadata": {},
   "source": [
    "library(datasets)\n",
    "data(iris)\n",
    "index_versicolor = which(iris[,5]=='versicolor')\n",
    "index_virginica = which(iris[,5]=='virginica')\n",
    "index_setosa = which(iris[,5]=='setosa')\n",
    "iris[,5] = 1\n",
    "iris[index_virginica,5] = 2\n",
    "iris[index_setosa,5] = 3\n",
    "iris[,5] = factor(iris[,5])\n",
    "x <- iris[1:150, c(\"Sepal.Length\", \"Sepal.Width\", \"Species\")]\n",
    "load(file = \"index_iris_1810563.Rdata\")\n",
    "number_train = 149\n",
    "x_train = as.matrix(x[index[1:number_train],1:2])\n",
    "y_train = x[index[1:number_train],3]\n",
    "x_test = as.matrix(x[index[number_train+1],1:2])\n",
    "y_test = x[index[number_train+1],3]\n",
    "write.csv(x_train,\"xtrain.csv\", row.names = FALSE)\n",
    "write.csv(y_train,\"ytrain.csv\", row.names = FALSE)\n",
    "write.csv(x_test,\"xtest.csv\", row.names = FALSE)\n",
    "write.csv(y_test,\"ytest.csv\", row.names = FALSE)"
   ]
  },
  {
   "cell_type": "markdown",
   "id": "a855271b",
   "metadata": {},
   "source": [
    "Setting up the data."
   ]
  },
  {
   "cell_type": "code",
   "execution_count": 2,
   "id": "9e371d97",
   "metadata": {},
   "outputs": [],
   "source": [
    "x_train = pd.read_csv('xtrain.csv')  \n",
    "y_train = pd.read_csv('ytrain.csv')  \n",
    "x_test = pd.read_csv('xtest.csv')  \n",
    "y_test = pd.read_csv('ytest.csv') "
   ]
  },
  {
   "cell_type": "markdown",
   "id": "817f2a03",
   "metadata": {},
   "source": [
    "## 1."
   ]
  },
  {
   "cell_type": "markdown",
   "id": "d2e908e3",
   "metadata": {},
   "source": [
    "Defining log likelihood function."
   ]
  },
  {
   "cell_type": "code",
   "execution_count": 3,
   "id": "49e2a7b4",
   "metadata": {},
   "outputs": [],
   "source": [
    "def log_likelihood(x_data, y_data, beta):\n",
    "    value = 0\n",
    "    size = np.shape(x_data)[0]\n",
    "    for i in range(size):\n",
    "        y = y_data.to_numpy()[i][0]\n",
    "        x = x_data.to_numpy()[i]\n",
    "        z = np.zeros(3)\n",
    "        for j in range(3):\n",
    "            z[j] = 1*beta[3*j] + x[0]*beta[3*j+1] + x[1]*beta[3*j+2]\n",
    "        p = np.exp(z[y-1])/np.sum(np.exp(z))\n",
    "        value += np.log(p)\n",
    "    return value"
   ]
  },
  {
   "cell_type": "markdown",
   "id": "839995ef",
   "metadata": {},
   "source": [
    "Obtaining the log likelihood value of the training data with $\\beta = (1,1,1,1,1,1,1,1,1)^T $."
   ]
  },
  {
   "cell_type": "code",
   "execution_count": 4,
   "id": "32852e11",
   "metadata": {},
   "outputs": [
    {
     "data": {
      "text/plain": [
       "-163.69323101154808"
      ]
     },
     "execution_count": 4,
     "metadata": {},
     "output_type": "execute_result"
    }
   ],
   "source": [
    "log_likelihood(x_train, y_train, np.zeros(9)+1)"
   ]
  },
  {
   "cell_type": "markdown",
   "id": "ded7af50",
   "metadata": {},
   "source": [
    "## 2."
   ]
  },
  {
   "cell_type": "markdown",
   "id": "1ffb7fd8",
   "metadata": {},
   "source": [
    "Defining functions to obtain $p$ and $q$ in the Metropolis-Hastings algorithm."
   ]
  },
  {
   "cell_type": "code",
   "execution_count": 5,
   "id": "1b6c217d",
   "metadata": {},
   "outputs": [],
   "source": [
    "def log_prior(beta):\n",
    "    return multivariate_normal(mean = np.zeros(9), cov = 100*np.eye(9)).logpdf(beta)\n",
    "\n",
    "def log_proposal(beta_star, beta, cov):\n",
    "    return multivariate_normal(mean = beta_star, cov = cov).logpdf(beta)"
   ]
  },
  {
   "cell_type": "markdown",
   "id": "f1dcddb6",
   "metadata": {},
   "source": [
    "Defining Metropolis-Hastings algorithm with parameters $n$, i.e. number of iterations, and $cov$, i.e. the covariance matrix $\\Sigma_q$."
   ]
  },
  {
   "cell_type": "code",
   "execution_count": 6,
   "id": "570683c6",
   "metadata": {},
   "outputs": [],
   "source": [
    "def met_has(n,cov):\n",
    "    beta = np.zeros((n,9))\n",
    "    beta[0] = np.random.multivariate_normal(np.zeros(9), 100*np.eye(9))\n",
    "    count = 0\n",
    "    for i in range(1,n):\n",
    "        beta_star = np.random.multivariate_normal(beta[i-1], cov)\n",
    "        u = np.random.uniform(0,1)\n",
    "        threshold = log_likelihood(x_train,y_train,beta_star) + log_prior(beta_star) +  log_proposal(beta_star, beta[i-1], cov) \\\n",
    "        - log_likelihood(x_train,y_train,beta[i-1]) - log_prior(beta[i-1]) - log_proposal(beta[i-1], beta_star, cov)\n",
    "        if u < np.min([1, np.exp(threshold)]):\n",
    "            beta[i] = beta_star\n",
    "        else:\n",
    "            beta[i] = beta[i-1]\n",
    "            count += 1\n",
    "    return beta"
   ]
  },
  {
   "cell_type": "markdown",
   "id": "8d83cf2c",
   "metadata": {},
   "source": [
    "After performing the algorithm for various diagonal covariance matrices $\\Sigma_q$ we have picked an initial matrix with idential diagonal values $0.05$. Now with such $cov$ we will run the algorithm to obtain the acceptance rate."
   ]
  },
  {
   "cell_type": "code",
   "execution_count": 7,
   "id": "d86a876f",
   "metadata": {},
   "outputs": [],
   "source": [
    "# n = 200000\n",
    "# cov = 0.05*np.eye(9)\n",
    "# betas_long = met_has(n,cov)\n",
    "\n",
    "# np.savetxt(r\"\\Users\\gabij\\Desktop\\R projects\\betas2.csv\", betas_long, delimiter=\",\")\n",
    "\n",
    "# acc_rate = np.shape(np.unique(betas_long, axis=0))[0]/n\n",
    "# acc_rate"
   ]
  },
  {
   "cell_type": "code",
   "execution_count": 8,
   "id": "9598177f",
   "metadata": {},
   "outputs": [
    {
     "name": "stdout",
     "output_type": "stream",
     "text": [
      "0.078835\n"
     ]
    }
   ],
   "source": [
    "n = 200000\n",
    "betas_long = pd.read_csv(r\"\\Users\\gabij\\Desktop\\R projects\\betas2.csv\")\n",
    "acc_rate = np.shape(np.unique(betas_long.to_numpy(), axis=0))[0]/n\n",
    "print (acc_rate)"
   ]
  },
  {
   "cell_type": "markdown",
   "id": "6f64722a",
   "metadata": {},
   "source": [
    "So the acceptance rate for such initial matrix is around $7.88\\%$ Now to estimate the posterior $\\Sigma_{\\hat{\\pi}}$ we use burn-in period of $100,000$ and obtain the tuned $\\Sigma_q$ as follows."
   ]
  },
  {
   "cell_type": "code",
   "execution_count": 9,
   "id": "4b5e7518",
   "metadata": {},
   "outputs": [],
   "source": [
    "x = 100000\n",
    "betas = betas_long.to_numpy()[x: , :] # picking betas only after burn-in period\n",
    "covariance = np.cov(betas.T, bias = True) # computing covariance\n",
    "sigma_q = (2.38**2)*covariance/9 # setting the sigma_q"
   ]
  },
  {
   "cell_type": "markdown",
   "id": "25cf6a3f",
   "metadata": {},
   "source": [
    "And with this covariance matrix we run the algorithm again."
   ]
  },
  {
   "cell_type": "code",
   "execution_count": 10,
   "id": "9cc8a050",
   "metadata": {},
   "outputs": [],
   "source": [
    "# n = 200000\n",
    "# opt_betas = met_has(n,sigma_q)\n",
    "\n",
    "# np.savetxt(r\"\\Users\\gabij\\Desktop\\R projects\\betas_opt.csv\", opt_betas, delimiter=\",\")\n",
    "\n",
    "# acc_rate = np.shape(np.unique(opt_betas, axis=0))[0]/n\n",
    "# acc_rate"
   ]
  },
  {
   "cell_type": "code",
   "execution_count": 11,
   "id": "19b85a8e",
   "metadata": {},
   "outputs": [
    {
     "name": "stdout",
     "output_type": "stream",
     "text": [
      "0.3268\n"
     ]
    }
   ],
   "source": [
    "n = 200000\n",
    "opt_betas = pd.read_csv(r\"\\Users\\gabij\\Desktop\\R projects\\betas_opt.csv\")\n",
    "opt_betas = opt_betas.to_numpy()\n",
    "acc_rate = np.shape(np.unique(opt_betas, axis=0))[0]/n\n",
    "print (acc_rate)"
   ]
  },
  {
   "cell_type": "markdown",
   "id": "fb9aa0d6",
   "metadata": {},
   "source": [
    "The acceptance rate with the tuned covariance matrix is then $32.7\\%$."
   ]
  },
  {
   "cell_type": "markdown",
   "id": "e7dfdeb0",
   "metadata": {},
   "source": [
    "## 3."
   ]
  },
  {
   "cell_type": "markdown",
   "id": "345da3fc",
   "metadata": {},
   "source": [
    "The following code was performed in R."
   ]
  },
  {
   "cell_type": "raw",
   "id": "6e9a643c",
   "metadata": {},
   "source": [
    "betas  = read.csv(\"betas_opt.csv\")\n",
    "x = 50000\n",
    "betas_after_burn = betas[-(1:x),]\n",
    "\n",
    "library(mcmcse)\n",
    "multiESS(betas_after_burn)\n",
    "\n",
    "y = 113000\n",
    "betas_fewer_iter = head(betas_after_burn, -y)\n",
    "\n",
    "multiESS(betas_fewer iter)"
   ]
  },
  {
   "cell_type": "markdown",
   "id": "e205f21e",
   "metadata": {},
   "source": [
    "It gave us the ESS of 1090.9 and so after burn-in of 50,000 we used only 63,000 iterations to find such ESS."
   ]
  },
  {
   "cell_type": "markdown",
   "id": "dccd85d3",
   "metadata": {},
   "source": [
    "## 4."
   ]
  },
  {
   "cell_type": "markdown",
   "id": "5e5c89c1",
   "metadata": {},
   "source": [
    "Plotting the histogram of the last coordinate of vector $\\beta$. Here we only use as the betas after burn in and only until we reach ESS of 1000."
   ]
  },
  {
   "cell_type": "code",
   "execution_count": 12,
   "id": "a429dadd",
   "metadata": {},
   "outputs": [
    {
     "data": {
      "image/png": "[encoded data removed]",
      "text/plain": [
       "<Figure size 864x576 with 1 Axes>"
      ]
     },
     "metadata": {
      "needs_background": "light"
     },
     "output_type": "display_data"
    }
   ],
   "source": [
    "x = 50000\n",
    "y = 113000\n",
    "opt_betas_adj = opt_betas[x:y, :]\n",
    "    \n",
    "plt.rcParams['figure.figsize'] = [12, 8]\n",
    "plt.xlabel(r'Value',fontsize = 14)\n",
    "plt.ylabel(r'Frequency',fontsize = 14)\n",
    "plt.title(r'Histogram of the estimated posterior distribution of the final value of the $\\beta$',fontsize = 18)\n",
    "plt.hist(opt_betas_adj[:,8], bins = 100)\n",
    "plt.show()"
   ]
  },
  {
   "cell_type": "markdown",
   "id": "3216f069",
   "metadata": {},
   "source": [
    "The distribution looks normal and centered at around 8."
   ]
  },
  {
   "cell_type": "markdown",
   "id": "b2998ec1",
   "metadata": {},
   "source": [
    "## 5."
   ]
  },
  {
   "cell_type": "markdown",
   "id": "edce3627",
   "metadata": {},
   "source": [
    "We first compute the probabilities."
   ]
  },
  {
   "cell_type": "code",
   "execution_count": 13,
   "id": "d9176fc9",
   "metadata": {},
   "outputs": [],
   "source": [
    "opt_betas_x = opt_betas[50000:,:]\n",
    "size = np.shape(opt_betas_x)[0]\n",
    "x = x_test.to_numpy()[0]\n",
    "prob = np.zeros(size)\n",
    "for i in range(size):\n",
    "    beta = opt_betas_x[i]\n",
    "    z = np.zeros(3)\n",
    "    for j in range(3):\n",
    "        z[j] = 1*beta[3*j] + x[0]*beta[3*j+1] + x[1]*beta[3*j+2]\n",
    "    p = np.exp(z[0])/np.sum(np.exp(z))\n",
    "    prob[i] = np.log(p)"
   ]
  },
  {
   "cell_type": "markdown",
   "id": "40758606",
   "metadata": {},
   "source": [
    "And now we plot the required histogram."
   ]
  },
  {
   "cell_type": "code",
   "execution_count": 14,
   "id": "c95af5d8",
   "metadata": {},
   "outputs": [
    {
     "data": {
      "image/png": "[encoded data removed]",
      "text/plain": [
       "<Figure size 864x576 with 1 Axes>"
      ]
     },
     "metadata": {
      "needs_background": "light"
     },
     "output_type": "display_data"
    }
   ],
   "source": [
    "plt.rcParams['figure.figsize'] = [12, 8]\n",
    "plt.xlabel(r'Value',fontsize = 14)\n",
    "plt.ylabel(r'Probability',fontsize = 14)\n",
    "plt.title(r'Estimated posterior distribution of log probability that the test point is in class 1',fontsize = 18)\n",
    "plt.hist(prob, bins = 30)\n",
    "plt.show()"
   ]
  },
  {
   "cell_type": "markdown",
   "id": "e21e5d66",
   "metadata": {},
   "source": [
    "The log distribution is negatively skewed and has mean of around -0.3 (logged)."
   ]
  },
  {
   "cell_type": "markdown",
   "id": "37a08b9c",
   "metadata": {},
   "source": [
    "## 6."
   ]
  },
  {
   "cell_type": "markdown",
   "id": "e793c701",
   "metadata": {},
   "source": [
    "An estimate for the expected probability that the test point is in class 1 under the posterior is:"
   ]
  },
  {
   "cell_type": "code",
   "execution_count": 15,
   "id": "227e2313",
   "metadata": {},
   "outputs": [
    {
     "data": {
      "text/plain": [
       "0.8527833590506476"
      ]
     },
     "execution_count": 15,
     "metadata": {},
     "output_type": "execute_result"
    }
   ],
   "source": [
    "beta_final = np.mean(opt_betas[50000:,:])\n",
    "x = x_test.to_numpy()[0]\n",
    "z = np.zeros(3)\n",
    "for j in range(3):\n",
    "    z[j] = 1*beta[3*j] + x[0]*beta[3*j+1] + x[1]*beta[3*j+2]\n",
    "p = np.exp(z[0])/np.sum(np.exp(z))\n",
    "p"
   ]
  }
 ],
 "metadata": {
  "kernelspec": {
   "display_name": "Python 3 (ipykernel)",
   "language": "python",
   "name": "python3"
  },
  "language_info": {
   "codemirror_mode": {
    "name": "ipython",
    "version": 3
   },
   "file_extension": ".py",
   "mimetype": "text/x-python",
   "name": "python",
   "nbconvert_exporter": "python",
   "pygments_lexer": "ipython3",
   "version": "3.8.8"
  }
 },
 "nbformat": 4,
 "nbformat_minor": 5
}
