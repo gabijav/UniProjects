{
 "cells": [
  {
   "cell_type": "markdown",
   "id": "d8660c14",
   "metadata": {},
   "source": [
    "<h1><center> Monte Carlo Methods:</center></h1>\n",
    "<h1><center> Transformation, Rejection & Importance Sampling</center></h1>\n",
    "<h2><center> Gabija Vaisvilaite </center></h2>\n",
    "$$ \\hspace{1cm} $$\n",
    "<h3><center> 1. </center></h3>"
   ]
  },
  {
   "cell_type": "markdown",
   "id": "1422aa09",
   "metadata": {},
   "source": [
    "Consider a random variable $X$ with density: $$X = \\left \\{\n",
    "  \\begin{aligned}\n",
    "    &c(x^3+8x), && \\text{if}\\ 0 \\leq x \\leq 4 \\\\\n",
    "    &0, && \\text{otherwise}\n",
    "  \\end{aligned} \\right.$$"
   ]
  },
  {
   "cell_type": "markdown",
   "id": "6ec3542d",
   "metadata": {},
   "source": [
    "#### $\\textbf{(a) i.}$\n",
    "As $f$ is a density function, we have that $$\n",
    "\\begin{equation}\n",
    "\\begin{split}\n",
    "\\int_{-\\infty}^{\\infty} f(x) \\,dx & = \\int_{0}^{4} c \\cdot (x^3+8x) \\,dx \\\\\n",
    "                                  & = \\left. c \\cdot \\big( \\frac{x^4}{4}+4x^2 \\big) \\right|_{0}^{4} \\\\\n",
    "                                  & = 128c \\\\\n",
    "                                  & = 1\n",
    "\\end{split}\n",
    "\\end{equation}$$ $\\\\$\n",
    "And so $ c = \\frac{1}{128} $."
   ]
  },
  {
   "cell_type": "markdown",
   "id": "3666f7ae",
   "metadata": {},
   "source": [
    "#### $\\textbf{(a) ii.}$\n",
    "For $ x \\leq 0 $ we have $$ F(x) = \\int_{-\\infty}^{x} 0 \\,dt = 0 $$\n",
    "For $ 0 < x \\leq 4 $ we have $$\n",
    "\\begin{equation}\n",
    "\\begin{split}\n",
    "F(x) & = \\int_{0}^{x} \\frac{1}{128} \\left( t^3 + 8t \\right) \\,dt \\\\\n",
    "     & = \\left. \\frac{1}{128} \\big( \\frac{t^4}{4}+4t^2 \\big) \\right|_{0}^{4} \\\\\n",
    "     & = \\frac{1}{512} \\big( x^4+16x^2 \\big)\n",
    "\\end{split}\n",
    "\\end{equation} $$\n",
    "For $ 4 < x $ we have $$ F(x) = \\int_{-\\infty}^{x} f(t) \\,dt = 1 $$\n",
    "Hence, $$\n",
    "\\begin{equation}\n",
    "  F(x) =\n",
    "    \\begin{cases}\n",
    "      0 & \\text{for $x \\leq 0$}\\\\\n",
    "      \\frac{1}{512}\\big( x^4+16x^2 \\big) & \\text{for $0 < x \\leq 4$}\\\\\n",
    "      1 & \\text{for $x > 4$}\n",
    "    \\end{cases}       \n",
    "\\end{equation} $$"
   ]
  },
  {
   "cell_type": "markdown",
   "id": "65cc6860",
   "metadata": {},
   "source": [
    "#### $\\textbf{(a) iii.}$\n",
    "Let $$ u = F(x) = \\frac{1}{512}\\big( x^4+16x^2 \\big) $$ for $0 < x \\leq 4$. Then we rearrange the equation to obtain $$x^4+16x^2-512u=0$$ and thus we can solve the quadratic equation to get $$x^2= \\frac{-16 \\pm \\sqrt{256 + 4 \\cdot 512u}}{2} = -8 + \\sqrt{64+512u}$$ since $ u \\geq 0$ for all $x$ and $ x \\geq 0 $. Hence we deduce that $$ x= \\sqrt{-8 + \\sqrt{64+512u}} $$ since $x \\geq 0$ and so we have that the inverse of $F$ is $$F^{-1}(x) = \\sqrt{-8 + \\sqrt{64+512x}}$$ for $0 \\leq x \\leq 4$."
   ]
  },
  {
   "cell_type": "markdown",
   "id": "8cc30609",
   "metadata": {},
   "source": [
    "#### $\\textbf{(b) i.}$ \n",
    "We evaluate the probability density function $f$, the cumulative distribution function $F$ and the inverse $F^{-1}$ with constant $c$ (in the code written as $const$), where the normalizing constant is $c= \\frac{1}{128}$ as computed in part $\\textbf{(a)}$. We plot both CDF $F$ and the inverse of CDF $F^{-1}$ to make sure we have evaluated the function correctly."
   ]
  },
  {
   "cell_type": "code",
   "execution_count": 1,
   "id": "6ea58795",
   "metadata": {},
   "outputs": [
    {
     "data": {
      "image/png": "[encoded data removed]",
      "text/plain": [
       "Plot with title \"Inverse of Cumulative Distribution Function\""
      ]
     },
     "metadata": {},
     "output_type": "display_data"
    }
   ],
   "source": [
    "#evaluating f\n",
    "pdf.f  <- function(const,x){\n",
    "    ind.low <- (x < 0 & x > 4)\n",
    "    ind.high <- (x >= 0 & x <= 4)\n",
    "  \n",
    "    u <- c()\n",
    "    u[ind.low] <- 0\n",
    "    u[ind.high] <- const*((x[ind.high])^3 + 8*x[ind.high])\n",
    "    u\n",
    "}\n",
    "\n",
    "#evaluating F\n",
    "cdf.f <- function(const,x) {\n",
    "    ind.low <- (x <= 0)\n",
    "    ind.med <- (x > 0 & x <= 4)\n",
    "    ind.high <- (x > 4)\n",
    "  \n",
    "    u <- c()\n",
    "    u[ind.low] <- 0\n",
    "    u[ind.med] <- const*(0.25*(x[ind.med])^4 + 4*(x[ind.med])^2)\n",
    "    u[ind.high] <- 1\n",
    "    u\n",
    "}\n",
    "\n",
    "#evaluating F inverse\n",
    "inv.cdf.f  <- function(const,u){\n",
    "    ind <- (u >= 0 & u <= 4)\n",
    "    x  <- c()\n",
    "    x[ind]  <-  sqrt(-8 + sqrt(64+4*u[ind]/const))\n",
    "    x\n",
    "}\n",
    "\n",
    "pts <- (-1000:1000) / 100\n",
    "ptu <- (0:1000) / 1000\n",
    "\n",
    "const = 1/128\n",
    "\n",
    "#plotting\n",
    "par(mfrow=c(2,1),mar=c(4,8,4,8))\n",
    "plot(pts, cdf.f(const,pts), type='l', xlab='x', ylab='F(x)', main='Cumulative Distribution Function')\n",
    "plot(ptu, inv.cdf.f(const,ptu), type='l', xlab='u', ylab='F^{-1}(u)', main='Inverse of Cumulative Distribution Function')"
   ]
  },
  {
   "cell_type": "markdown",
   "id": "3feb6b05",
   "metadata": {},
   "source": [
    "#### $\\textbf{(b) ii. and iii.}$ \n",
    "Generating samples from $f$ and plotting the histogram together with the density function $f$. Note that we only plot $0 \\leq x \\leq 4$, as elsewhere $f(x)=0$."
   ]
  },
  {
   "cell_type": "code",
   "execution_count": 2,
   "id": "d3392e24",
   "metadata": {},
   "outputs": [
    {
     "data": {
      "image/png": "[encoded data removed]",
      "text/plain": [
       "Plot with title \"Histogram of sampled values from f\""
      ]
     },
     "metadata": {},
     "output_type": "display_data"
    }
   ],
   "source": [
    "#generating samples from f\n",
    "samp <- inv.cdf.f(const,runif(1000))\n",
    "\n",
    "#plotting together with density\n",
    "par(mfrow=c(1,1))  \n",
    "hist(samp, n=25, probability=T, xlab='x', main='Histogram of sampled values from f')\n",
    "lines(pts, pdf.f(const,pts), type = \"l\", lty = 1, col = \"blue\")\n",
    "axis(1, at = seq(0, 4))"
   ]
  },
  {
   "cell_type": "markdown",
   "id": "40e0bf7b",
   "metadata": {},
   "source": [
    "#### $\\textbf{(b) iv.}$ \n",
    "Estimating expectation and variance of $X$ with density $f$."
   ]
  },
  {
   "cell_type": "code",
   "execution_count": 3,
   "id": "cdbfa4c9",
   "metadata": {},
   "outputs": [
    {
     "data": {
      "text/html": [
       "2.95996819793051"
      ],
      "text/latex": [
       "2.95996819793051"
      ],
      "text/markdown": [
       "2.95996819793051"
      ],
      "text/plain": [
       "[1] 2.959968"
      ]
     },
     "metadata": {},
     "output_type": "display_data"
    },
    {
     "data": {
      "text/html": [
       "0.650313263968182"
      ],
      "text/latex": [
       "0.650313263968182"
      ],
      "text/markdown": [
       "0.650313263968182"
      ],
      "text/plain": [
       "[1] 0.6503133"
      ]
     },
     "metadata": {},
     "output_type": "display_data"
    }
   ],
   "source": [
    "#expectation\n",
    "mean(samp)\n",
    "#variance\n",
    "var(samp)"
   ]
  },
  {
   "cell_type": "markdown",
   "id": "eba299fa",
   "metadata": {},
   "source": [
    "<h3><center> 2. </center></h3>"
   ]
  },
  {
   "cell_type": "markdown",
   "id": "6d3e51f4",
   "metadata": {},
   "source": [
    "Consider a random variable $Y$ with density: $$g(y)=c'\\cdot \\sin^2(\\pi y)(y^3+8y)$$ where $c'$ is an unknown constant."
   ]
  },
  {
   "cell_type": "markdown",
   "id": "fd5f4548",
   "metadata": {},
   "source": [
    "#### $\\textbf{(a) i. and ii.}$ \n",
    "Evaluating $g$ and plotting with constant $c=1$. Note that this is $\\textbf{not}$ a density function as it should be scaled."
   ]
  },
  {
   "cell_type": "code",
   "execution_count": 4,
   "id": "b3c7120b",
   "metadata": {},
   "outputs": [
    {
     "data": {
      "image/png": "[encoded data removed]",
      "text/plain": [
       "Plot with title \"Non-normalised density function with c'=1\""
      ]
     },
     "metadata": {},
     "output_type": "display_data"
    }
   ],
   "source": [
    "pdf.g <- function(const,y){\n",
    "  ind.neg <- (y < 0 & y > 4)\n",
    "  ind.pos <- (y >= 0 & y <= 4)\n",
    "  \n",
    "  u <- c()\n",
    "  u[ind.pos] <- const*(sin(pi*y[ind.pos]))^2*((y[ind.pos])^3+8*y[ind.pos])\n",
    "  u[ind.neg] <- 0\n",
    "  u\n",
    "}\n",
    "\n",
    "pts <- (0:4000) / 1000 \n",
    "plot(pts, pdf.g(1,pts), type='l', xlab='x', ylab='f(x)', col ='blue', main=\"Non-normalised density function with c'=1\")"
   ]
  },
  {
   "cell_type": "markdown",
   "id": "f904b1ea",
   "metadata": {},
   "source": [
    "#### $\\textbf{(b) i. and ii.}$ \n",
    "Now we want to implement a rejection sampler. Observe that for $0 \\leq x \\leq 4$ we have that for all $x$ the function $g(x)$ is bounded by $128f(x)$ where $f$ is the probability density function from part $\\textbf{(a)}$ taken with $c=\\frac{1}{128}$. In the plot note that $f(x)$ with constant $1$ is equivalent to $128f(x)$ where $f(x)$ is density with normalized constant."
   ]
  },
  {
   "cell_type": "code",
   "execution_count": 5,
   "id": "cf4c3ee5",
   "metadata": {},
   "outputs": [
    {
     "data": {
      "image/png": "[encoded data removed]",
      "text/plain": [
       "Plot with title \"Non-normalized density functions with c'=1\""
      ]
     },
     "metadata": {},
     "output_type": "display_data"
    }
   ],
   "source": [
    "plot(pts, pdf.g(1,pts), type='l', xlab='x', ylab='y', ylim=c(0,90), col ='blue', main=\"Non-normalized density functions with c'=1\")\n",
    "lines(pts, pdf.f(1,pts), col='red')\n",
    "legend(0, 90, legend=c(\"g(x) with const = 1\", \"f(x) with const = 1\"),col=c(\"blue\", \"red\"), pt.cex = 0.8, lty=1:1, cex=1)"
   ]
  },
  {
   "cell_type": "markdown",
   "id": "b92cd10b",
   "metadata": {},
   "source": [
    "Hence we create the rejection sampler using part $\\textbf{(a)}$ with proposal distribution function $128f$ and propose $10000$ samples."
   ]
  },
  {
   "cell_type": "code",
   "execution_count": 6,
   "id": "fdca1404",
   "metadata": {},
   "outputs": [],
   "source": [
    "k=10000\n",
    "xs <- c()\n",
    "i <- 1\n",
    "count <- 0\n",
    "while(count <= k){\n",
    "    X <- inv.cdf.f(const,runif(1))\n",
    "    U <- runif(1,0,4)\n",
    "    if(U < pdf.g(1,X)/pdf.f(1,X)){\n",
    "        xs[i]  <- X\n",
    "        i  <- i + 1\n",
    "    }\n",
    "    count <- count + 1\n",
    "}    "
   ]
  },
  {
   "cell_type": "markdown",
   "id": "932707eb",
   "metadata": {},
   "source": [
    "#### $\\textbf{(b) iv.}$ \n",
    "The number of samples we accepted is:"
   ]
  },
  {
   "cell_type": "code",
   "execution_count": 7,
   "id": "eb36b206",
   "metadata": {},
   "outputs": [
    {
     "data": {
      "text/html": [
       "1247"
      ],
      "text/latex": [
       "1247"
      ],
      "text/markdown": [
       "1247"
      ],
      "text/plain": [
       "[1] 1247"
      ]
     },
     "metadata": {},
     "output_type": "display_data"
    }
   ],
   "source": [
    "i"
   ]
  },
  {
   "cell_type": "markdown",
   "id": "55a40f88",
   "metadata": {},
   "source": [
    "#### $\\textbf{(b) iii.}$ \n",
    "Estimating mean and variance of $Y$ with density $g$."
   ]
  },
  {
   "cell_type": "code",
   "execution_count": 8,
   "id": "cac865e9",
   "metadata": {},
   "outputs": [
    {
     "data": {
      "text/html": [
       "2.93202971926629"
      ],
      "text/latex": [
       "2.93202971926629"
      ],
      "text/markdown": [
       "2.93202971926629"
      ],
      "text/plain": [
       "[1] 2.93203"
      ]
     },
     "metadata": {},
     "output_type": "display_data"
    },
    {
     "data": {
      "text/html": [
       "0.693796161194114"
      ],
      "text/latex": [
       "0.693796161194114"
      ],
      "text/markdown": [
       "0.693796161194114"
      ],
      "text/plain": [
       "[1] 0.6937962"
      ]
     },
     "metadata": {},
     "output_type": "display_data"
    }
   ],
   "source": [
    "mean(xs)\n",
    "var(xs)"
   ]
  },
  {
   "cell_type": "markdown",
   "id": "bae73107",
   "metadata": {},
   "source": [
    "Plotting density against histogram of more samples to make sure our sampler is correct. The plot confirms it."
   ]
  },
  {
   "cell_type": "code",
   "execution_count": 9,
   "id": "c22cc1dd",
   "metadata": {},
   "outputs": [
    {
     "data": {
      "image/png": "[encoded data removed]",
      "text/plain": [
       "Plot with title \"Empirical Histogram and Density for g(x)\""
      ]
     },
     "metadata": {},
     "output_type": "display_data"
    }
   ],
   "source": [
    "for(i in 1:k) {\n",
    "    U <- 1\n",
    "    X <- 3\n",
    "    while(U > pdf.g(1,X)/pdf.f(1,X)) {\n",
    "        X <- inv.cdf.f(const,runif(1))\n",
    "        U <- runif(1,0,4)\n",
    "        count <- count + 1\n",
    "    }\n",
    "    xs[i] <- X\n",
    "} \n",
    "hist(xs, prob=TRUE, main='Empirical Histogram and Density for g(x)',xlab='x',ylab='g(x)', xlim=c(0,4))\n",
    "const2 = pi^2/(64*pi^2-6)\n",
    "lines(pts, pdf.g(const2,pts), lwd=2, col='red')"
   ]
  },
  {
   "cell_type": "markdown",
   "id": "9b02f5cf",
   "metadata": {},
   "source": [
    "<h3><center> 3. </center></h3>\n",
    "\n",
    "Consider importance sampling from a standard normal density: $$f_1(x) = \\frac{1}{\\sqrt{2\\pi}}\\exp \\big(-\\frac{1}{2}x^2\\big)$$ using a $g_{\\sigma}(x)=N(x;0,\\sigma^2)$ proposal.\n",
    "\n",
    "#### $\\textbf{(a) i.}$\n",
    "\n",
    "We have that $$\n",
    "\\begin{equation}\n",
    "\\begin{split}\n",
    "Var(\\omega_{\\sigma}(X)) & = Var\\left(\\frac{\\frac{1}{\\sqrt{2\\pi}} exp \\big( \\frac{-x^2}{2}\\big)}{\\frac{1}{\\sigma\\sqrt{2\\pi}} exp \\big( \\frac{-x^2}{2{\\sigma}^2}\\big)}\\right) \\\\\n",
    "                        & = Var\\big( \\sigma \\cdot exp \\big( \\frac{-1}{2}x^2 + \\frac{1}{2}\\frac{x^2}{{\\sigma}^2}\\big) \\big) \\\\\n",
    "                        & = {\\sigma}^2 \\big( \\mathbb{E} \\big( exp \\big( -x^2 + \\frac{x^2}{{\\sigma}^2} \\big) \\big) - \\mathbb{E}^2 \\big( exp \\big( \\frac{-x^2}{2}+ \\frac{x^2}{2{\\sigma}^2}\\big) \\big) \\big) \\\\\n",
    "                        & = {\\sigma}^2 \\big( \\int_{-\\infty}^{\\infty} \\frac{1}{\\sigma \\sqrt{2\\pi}} exp \\big( -x^2 \\big( 1 - \\frac{1}{2 {\\sigma}^2} \\big) \\big) \\,dx - \\big( \\frac{1}{\\sigma} \\int_{-\\infty}^{\\infty} \\frac{1}{\\sqrt{2\\pi}} exp \\big( \\frac{-x^2}{2}\\big) \\,dx \\big)^2 \\big) \\\\\n",
    "                        & = {\\sigma}^2 \\int_{-\\infty}^{\\infty} \\frac{1}{\\sigma \\sqrt{2\\pi}} exp \\big( -x^2 \\big( 1 - \\frac{1}{2 {\\sigma}^2} \\big) \\big) \\,dx -1 \\\\\n",
    "                        & = {\\sigma}^2 \\frac{1}{\\sigma\\sqrt{2\\pi}} \\frac{\\sqrt{\\pi}}{\\sqrt{1-\\frac{1}{2{\\sigma}^2}}} -1 \\\\\n",
    "                        & = \\frac{{\\sigma}^2}{\\sqrt{2{\\sigma}^2-1}}-1\n",
    "\\end{split}\n",
    "\\end{equation}$$"
   ]
  },
  {
   "cell_type": "markdown",
   "id": "48ae33c4",
   "metadata": {},
   "source": [
    "#### $\\textbf{(a) ii.}$\n",
    "The variance is finite when $\\sigma \\neq \\pm \\sqrt{\\frac{1}{2}}$ as then $\\sqrt{2{\\sigma}^2-1}\\neq 0$ and the expression above is not infinite."
   ]
  },
  {
   "cell_type": "markdown",
   "id": "96851fca",
   "metadata": {},
   "source": [
    "#### $\\textbf{(a) iii.}$\n",
    "Variance is minimized when derivative of $$ \\frac{{\\sigma}^2}{\\sqrt{2{\\sigma}^2-1}}-1 $$ is $0$, that is, when $$ \\frac{2 \\sigma \\big(2 {\\sigma}^2 -1 \\big)^{\\frac{1}{2}}- \\frac{1}{2}\\big(2 {\\sigma}^2 -1 \\big)^{\\frac{-1}{2}}4\\sigma {\\sigma}^2}{2{\\sigma}^2-1} = 0 $$ which can be simplified to $$ \\frac{2\\sigma \\big( \\sigma - 1\\big) \\big( \\sigma +1 \\big)}{\\sqrt{2{\\sigma}^2-1}^3} =0$$ i.e. the variance is minimized when $\\sigma=1$ (as $\\sigma >0 $)."
   ]
  },
  {
   "cell_type": "markdown",
   "id": "61c3d259",
   "metadata": {},
   "source": [
    "#### $\\textbf{(b) i.}$\n",
    "Implementing importance sampler."
   ]
  },
  {
   "cell_type": "code",
   "execution_count": 13,
   "id": "da81c611",
   "metadata": {},
   "outputs": [],
   "source": [
    "sd=2\n",
    "mean.estimator <- function(n,sd){\n",
    "    x <- rnorm(n, 0, sd)\n",
    "    w <- dnorm(x, 0, 1) / (n*dnorm(x,0,sd))\n",
    "    sample <- data.frame(X=x,W=w)\n",
    "    return(sum(sample$X * sample$W))\n",
    "}"
   ]
  },
  {
   "cell_type": "markdown",
   "id": "f40c25de",
   "metadata": {},
   "source": [
    "#### $\\textbf{(b) ii.}$\n",
    "Implementing importance sampler for different $\\sigma$ values ranging from $0$ to $2$, plotting the corresponding mean values and absolute mean values to observe the behaviour of mean estimates."
   ]
  },
  {
   "cell_type": "code",
   "execution_count": 14,
   "id": "6a92009a",
   "metadata": {
    "scrolled": false
   },
   "outputs": [
    {
     "data": {
      "text/html": [
       "<ol class=list-inline>\n",
       "\t<li>0</li>\n",
       "\t<li>0.000541451092147767</li>\n",
       "\t<li>0.00620838025472093</li>\n",
       "\t<li>-0.0800258800009368</li>\n",
       "\t<li>-0.185394954746091</li>\n",
       "\t<li>0.371187963048581</li>\n",
       "\t<li>0.0409266045760292</li>\n",
       "\t<li>-0.0617571421371187</li>\n",
       "\t<li>0.0121420900085123</li>\n",
       "\t<li>0.0264575346646068</li>\n",
       "\t<li>-0.0623726783071172</li>\n",
       "\t<li>-0.00914763127163073</li>\n",
       "\t<li>0.000337977628085097</li>\n",
       "\t<li>0.000919377538937621</li>\n",
       "\t<li>-0.00570027738089068</li>\n",
       "\t<li>0.00041129391052153</li>\n",
       "\t<li>0.00777273902367212</li>\n",
       "\t<li>0.00190911975022601</li>\n",
       "\t<li>0.00118433922849623</li>\n",
       "\t<li>0.00222257055420022</li>\n",
       "\t<li>-0.00249179908406585</li>\n",
       "\t<li>-0.00160786943504556</li>\n",
       "\t<li>0.00227137299521768</li>\n",
       "\t<li>-0.00137877568185364</li>\n",
       "\t<li>0.0043556720266412</li>\n",
       "\t<li>0.00286371618654631</li>\n",
       "\t<li>-0.00107901637582318</li>\n",
       "\t<li>0.00304380980806455</li>\n",
       "\t<li>-0.00332417217148477</li>\n",
       "\t<li>0.00307659768313661</li>\n",
       "\t<li>0.000919195604866547</li>\n",
       "\t<li>-0.000117293218359671</li>\n",
       "\t<li>-0.00285276232695654</li>\n",
       "\t<li>0.00464143643580664</li>\n",
       "\t<li>0.00144312901828582</li>\n",
       "\t<li>-0.000604765826712393</li>\n",
       "\t<li>-0.00306946299605194</li>\n",
       "\t<li>-0.0025038648114946</li>\n",
       "\t<li>-0.00135449021046053</li>\n",
       "\t<li>0.00188860947074311</li>\n",
       "\t<li>0.00107641318071054</li>\n",
       "</ol>\n"
      ],
      "text/latex": [
       "\\begin{enumerate*}\n",
       "\\item 0\n",
       "\\item 0.000541451092147767\n",
       "\\item 0.00620838025472093\n",
       "\\item -0.0800258800009368\n",
       "\\item -0.185394954746091\n",
       "\\item 0.371187963048581\n",
       "\\item 0.0409266045760292\n",
       "\\item -0.0617571421371187\n",
       "\\item 0.0121420900085123\n",
       "\\item 0.0264575346646068\n",
       "\\item -0.0623726783071172\n",
       "\\item -0.00914763127163073\n",
       "\\item 0.000337977628085097\n",
       "\\item 0.000919377538937621\n",
       "\\item -0.00570027738089068\n",
       "\\item 0.00041129391052153\n",
       "\\item 0.00777273902367212\n",
       "\\item 0.00190911975022601\n",
       "\\item 0.00118433922849623\n",
       "\\item 0.00222257055420022\n",
       "\\item -0.00249179908406585\n",
       "\\item -0.00160786943504556\n",
       "\\item 0.00227137299521768\n",
       "\\item -0.00137877568185364\n",
       "\\item 0.0043556720266412\n",
       "\\item 0.00286371618654631\n",
       "\\item -0.00107901637582318\n",
       "\\item 0.00304380980806455\n",
       "\\item -0.00332417217148477\n",
       "\\item 0.00307659768313661\n",
       "\\item 0.000919195604866547\n",
       "\\item -0.000117293218359671\n",
       "\\item -0.00285276232695654\n",
       "\\item 0.00464143643580664\n",
       "\\item 0.00144312901828582\n",
       "\\item -0.000604765826712393\n",
       "\\item -0.00306946299605194\n",
       "\\item -0.0025038648114946\n",
       "\\item -0.00135449021046053\n",
       "\\item 0.00188860947074311\n",
       "\\item 0.00107641318071054\n",
       "\\end{enumerate*}\n"
      ],
      "text/markdown": [
       "1. 0\n",
       "2. 0.000541451092147767\n",
       "3. 0.00620838025472093\n",
       "4. -0.0800258800009368\n",
       "5. -0.185394954746091\n",
       "6. 0.371187963048581\n",
       "7. 0.0409266045760292\n",
       "8. -0.0617571421371187\n",
       "9. 0.0121420900085123\n",
       "10. 0.0264575346646068\n",
       "11. -0.0623726783071172\n",
       "12. -0.00914763127163073\n",
       "13. 0.000337977628085097\n",
       "14. 0.000919377538937621\n",
       "15. -0.00570027738089068\n",
       "16. 0.00041129391052153\n",
       "17. 0.00777273902367212\n",
       "18. 0.00190911975022601\n",
       "19. 0.00118433922849623\n",
       "20. 0.00222257055420022\n",
       "21. -0.00249179908406585\n",
       "22. -0.00160786943504556\n",
       "23. 0.00227137299521768\n",
       "24. -0.00137877568185364\n",
       "25. 0.0043556720266412\n",
       "26. 0.00286371618654631\n",
       "27. -0.00107901637582318\n",
       "28. 0.00304380980806455\n",
       "29. -0.00332417217148477\n",
       "30. 0.00307659768313661\n",
       "31. 0.000919195604866547\n",
       "32. -0.000117293218359671\n",
       "33. -0.00285276232695654\n",
       "34. 0.00464143643580664\n",
       "35. 0.00144312901828582\n",
       "36. -0.000604765826712393\n",
       "37. -0.00306946299605194\n",
       "38. -0.0025038648114946\n",
       "39. -0.00135449021046053\n",
       "40. 0.00188860947074311\n",
       "41. 0.00107641318071054\n",
       "\n",
       "\n"
      ],
      "text/plain": [
       " [1]  0.0000000000  0.0005414511  0.0062083803 -0.0800258800 -0.1853949547\n",
       " [6]  0.3711879630  0.0409266046 -0.0617571421  0.0121420900  0.0264575347\n",
       "[11] -0.0623726783 -0.0091476313  0.0003379776  0.0009193775 -0.0057002774\n",
       "[16]  0.0004112939  0.0077727390  0.0019091198  0.0011843392  0.0022225706\n",
       "[21] -0.0024917991 -0.0016078694  0.0022713730 -0.0013787757  0.0043556720\n",
       "[26]  0.0028637162 -0.0010790164  0.0030438098 -0.0033241722  0.0030765977\n",
       "[31]  0.0009191956 -0.0001172932 -0.0028527623  0.0046414364  0.0014431290\n",
       "[36] -0.0006047658 -0.0030694630 -0.0025038648 -0.0013544902  0.0018886095\n",
       "[41]  0.0010764132"
      ]
     },
     "metadata": {},
     "output_type": "display_data"
    },
    {
     "data": {
      "image/png": "[encoded data removed]",
      "text/plain": [
       "plot without title"
      ]
     },
     "metadata": {},
     "output_type": "display_data"
    },
    {
     "data": {
      "image/png": "[encoded data removed]",
      "text/plain": [
       "plot without title"
      ]
     },
     "metadata": {},
     "output_type": "display_data"
    }
   ],
   "source": [
    "mean.values  <- c()\n",
    "sd.values  <-   seq(from = 0, to = 2, by = 0.05)\n",
    "for(i in 1:length(sd.values)){\n",
    "    mean.values[i]  <- mean.estimator(100000,sd.values[i])\n",
    "}\n",
    "mean.values\n",
    "plot(sd.values, mean.values)\n",
    "plot(sd.values, abs(mean.values))"
   ]
  },
  {
   "cell_type": "markdown",
   "id": "4a0dd4f0",
   "metadata": {},
   "source": [
    "Clearly $g$ with different values of $\\sigma$ covers $f$ differently, in particular, values of $\\sigma$ smaller than $1$ cover $f$ poorly thus the mean estimation is not as accurate."
   ]
  },
  {
   "cell_type": "markdown",
   "id": "fa548469",
   "metadata": {},
   "source": [
    "#### $\\textbf{(c) i.}$\n",
    "Performing repeated simulations and plotting estimated variance of the mean estimations for corresponding $\\sigma$ values ranging from $0$ to $2$."
   ]
  },
  {
   "cell_type": "code",
   "execution_count": 12,
   "id": "81b5cea7",
   "metadata": {
    "scrolled": false
   },
   "outputs": [
    {
     "data": {
      "image/png": "[encoded data removed]",
      "text/plain": [
       "plot without title"
      ]
     },
     "metadata": {},
     "output_type": "display_data"
    }
   ],
   "source": [
    "variance  <- c()\n",
    "for(j in 1:length(sd.values)){\n",
    "   mean.values  <- c() \n",
    "    for(i in 1:100){\n",
    "        mean.values[i]  <- mean.estimator(1000,sd.values[j])\n",
    "    }\n",
    "    variance[j]  <- var(mean.values)\n",
    "}\n",
    "plot(sd.values,variance)"
   ]
  },
  {
   "cell_type": "markdown",
   "id": "906f8469",
   "metadata": {},
   "source": [
    "#### $\\textbf{(d)}$\n",
    "Choosing a proposal distribution can be really difficult as poor choice of a distribution or a parameter for a distribution can lead to poor estimators."
   ]
  }
 ],
 "metadata": {
  "kernelspec": {
   "display_name": "R",
   "language": "R",
   "name": "ir"
  },
  "language_info": {
   "codemirror_mode": "r",
   "file_extension": ".r",
   "mimetype": "text/x-r-source",
   "name": "R",
   "pygments_lexer": "r",
   "version": "4.1.2"
  }
 },
 "nbformat": 4,
 "nbformat_minor": 5
}
